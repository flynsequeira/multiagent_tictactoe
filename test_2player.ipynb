{
 "cells": [
  {
   "cell_type": "code",
   "execution_count": 2,
   "metadata": {
    "scrolled": true
   },
   "outputs": [
    {
     "name": "stdout",
     "output_type": "stream",
     "text": [
      "\u001b[31mERROR: Could not find a version that satisfies the requirement tensorflow-gpu (from versions: none)\u001b[0m\n",
      "\u001b[31mERROR: No matching distribution found for tensorflow-gpu\u001b[0m\n",
      "Note: you may need to restart the kernel to use updated packages.\n"
     ]
    }
   ],
   "source": [
    "pip install --upgrade --force-reinstall tensorflow-gpu"
   ]
  },
  {
   "cell_type": "code",
   "execution_count": 1,
   "metadata": {},
   "outputs": [
    {
     "name": "stderr",
     "output_type": "stream",
     "text": [
      "Using TensorFlow backend.\n"
     ]
    }
   ],
   "source": [
    "import numpy as np\n",
    "# from ddqn_keras import DDQNAgent\n",
    "# from utils import plotLearning\n",
    "from keras.layers import Dense, Activation\n",
    "from keras.models import Sequential, load_model\n",
    "from keras.optimizers import Adam\n"
   ]
  },
  {
   "cell_type": "code",
   "execution_count": null,
   "metadata": {},
   "outputs": [],
   "source": []
  },
  {
   "cell_type": "code",
   "execution_count": 2,
   "metadata": {},
   "outputs": [],
   "source": [
    "# Experience Replay\n",
    "class ReplayBuffer():\n",
    "    def __init__(self,memory_size=100000, input_shape=(9,)):\n",
    "        self.memory_size = int(memory_size/1.5)\n",
    "        self.input_shape = input_shape\n",
    "        # memory counter -> tracks first unsaved memory and use it to insert new memory into buffer\n",
    "        # When replay buffer becomes full, it rewrites earliest memoreis\n",
    "        self.memory_counter = 0\n",
    "        # TODO: Change *input_shape to directly the elements\n",
    "#         print(input_shape)\n",
    "#         print(type(self.memory_size/2))\n",
    "        self.state_memory = np.zeros((self.memory_size, *input_shape), dtype=np.float32)\n",
    "        self.new_state_memory = np.zeros((self.memory_size, *input_shape), dtype=np.float32)\n",
    "        # TODO: Figure out why np.int32\n",
    "\n",
    "        # reward memory = \n",
    "        # terminal memory is the memory where it ends? done flags?\n",
    "        self.action_memory = np.zeros(self.memory_size, dtype=np.int32)\n",
    "        self.reward_memory = np.zeros(self.memory_size, dtype=np.float32)\n",
    "        self.terminal_memory = np.zeros(self.memory_size, dtype=np.float32)\n",
    "\n",
    "    def store_transition(self, state, action, reward, state_, done):\n",
    "        index = self.memory_counter % self.memory_size\n",
    "        self.state_memory[index] = state\n",
    "        self.new_state_memory[index] = state_\n",
    "        self.reward_memory[index] = reward\n",
    "        self.action_memory[index] = action\n",
    "        self.terminal_memory[index] = 1-int(done)\n",
    "        self.memory_counter += 1\n",
    "\n",
    "    def sample_buffer(self, batch_size):\n",
    "        # Have we filled up the agents memory or not. If we have we need to sample a bunch of zeroes\n",
    "        \n",
    "        # If we haven't filled up the agent's memory we shouldn't sample it\n",
    "        # why? Not sure\n",
    "        # If we filled it up -> we sample full memory \n",
    "        # If we haven't -> we sample till the memory size, because the rest doesn't give it any significant information\n",
    "\n",
    "        # TODO: Remove this option and test it out\n",
    "        current_memory = min(self.memory_counter, self.memory_size)\n",
    "        # TODO: Constant batch size\n",
    "        batch = np.random.choice(current_memory, batch_size, replace=False)\n",
    "\n",
    "\n",
    "        # TODO: Answer can you have it as one single list that can be sampled? We need to figure that out. \n",
    "        # In that case we can remove current_memory too out of the requirement\n",
    "        # Just pick the entire batch baby. \n",
    "\n",
    "        # THEN WE JUST SAMPLE THE MEMORY\n",
    "        state = self.state_memory[batch]\n",
    "        state_ = self.new_state_memory[batch]\n",
    "        rewards = self.reward_memory[batch]\n",
    "        actions = self.action_memory[batch]\n",
    "        terminal = self.terminal_memory[batch]\n",
    "\n",
    "        # TODO: Instead of the above todo, we can select random choice the s,a,r,s',t from the list directly of size, batch size.\n",
    "        # No np bullshit\n",
    "        # Simpler? YES! DEFINITELY! RESOLVED\n",
    "\n",
    "\n",
    "        return state, actions, rewards, state_, terminal"
   ]
  },
  {
   "cell_type": "code",
   "execution_count": 3,
   "metadata": {},
   "outputs": [],
   "source": [
    "import tensorflow as tf\n",
    "import numpy as np\n",
    "from collections import deque\n",
    "# from rl.deep_q_network import DeepQNetwork\n",
    "# from game import Game\n",
    "# from gui import GUI\n",
    "import time\n",
    "import threading\n",
    "\n",
    "import random\n",
    "import numpy as np\n",
    "import tensorflow as tf\n",
    "# from rl.replay_buffer import ReplayBuffer\n",
    "\n",
    "\n",
    "#----------------------------------------------------------------------------\n",
    "#----------------------Game {------------------------------------------------\n",
    "#----------------------------------------------------------------------------\n",
    "# GAME\n",
    "\n",
    "import copy\n",
    "\n",
    "class Env:\n",
    "    def __init__(self):\n",
    "        self.board = np.array([-1.0] * 9)\n",
    "        self.allowedAction = np.where([-1.0] * 9)\n",
    "        self.winning_combos = (\n",
    "        [6, 7, 8], [3, 4, 5], [0, 1, 2], [0, 3, 6], [1, 4, 7], [2, 5, 8],\n",
    "        [0, 4, 8], [2, 4, 6],)\n",
    "        self.corners = [0,2,6,8]\n",
    "        self.sides = [1,3,5,7]\n",
    "        self.middle = 4\n",
    "\n",
    "    def get_marker(self):\n",
    "        return (1.0,0.0)\n",
    "    \n",
    "    def set_board(self, board):\n",
    "        self.board = board\n",
    "        self.allowedAction = list(np.where(self.board==-1)[0])\n",
    "        return board\n",
    "\n",
    "    def reset(self):\n",
    "        self.board = np.array([-1.0] * 9)\n",
    "        return self.board\n",
    "    \n",
    "    def get_board(self):\n",
    "        return self.board.reshape(3,3)\n",
    "\n",
    "    def step(self, action, mark):\n",
    "        over = False\n",
    "        reward = 0\n",
    "\n",
    "        self.make_move(self.board, action, mark)\n",
    "        \n",
    "        if(self.is_winner(self.board,mark)):\n",
    "            reward = 100\n",
    "            over = True\n",
    "\n",
    "        # drawing\n",
    "        elif self.is_board_full():\n",
    "            reward = 10\n",
    "            over = True\n",
    "        \n",
    "#         print(self.board)\n",
    "\n",
    "        self.allowedAction = list(np.where(self.board==-1)[0])\n",
    "\n",
    "        return self.board,self.allowedAction, reward, over\n",
    "\n",
    "    def is_winner(self, board, mark):\n",
    "        for combo in self.winning_combos:\n",
    "            if (board[combo[0]] == board[combo[1]] == board[combo[2]] == mark):\n",
    "                return True\n",
    "        return False\n",
    "\n",
    "    def get_winning_combo(self, board):\n",
    "        for combo in self.winning_combos:\n",
    "            if (board[combo[0]] == board[combo[1]] == board[combo[2]]):\n",
    "                return [combo[0], combo[1], combo[2]]\n",
    "        return [None, None, None]\n",
    "\n",
    "    def is_space_free(self, board, index):\n",
    "        \"checks for free space of the board\"\n",
    "        return board[index] == -1.0\n",
    "\n",
    "    def is_board_full(self):\n",
    "        \"checks if the board is full\"\n",
    "        for i in range(1,9):\n",
    "            if self.is_space_free(self.board, i):\n",
    "                return False\n",
    "        return True\n",
    "\n",
    "    def make_move(self,board,index, mark):\n",
    "        board[index] =  mark\n",
    "\n",
    "    def choose_random_move(self, move_list):\n",
    "        possible_winning_moves = []\n",
    "        for index in move_list:\n",
    "            if self.is_space_free(self.board, index):\n",
    "                possible_winning_moves.append(index)\n",
    "        if len(possible_winning_moves) != 0:\n",
    "            return random.choice(possible_winning_moves)\n",
    "        else:\n",
    "            return None\n"
   ]
  },
  {
   "cell_type": "code",
   "execution_count": 4,
   "metadata": {},
   "outputs": [
    {
     "data": {
      "text/plain": [
       "array([-1])"
      ]
     },
     "execution_count": 4,
     "metadata": {},
     "output_type": "execute_result"
    }
   ],
   "source": [
    "allowed = [3]\n",
    "a = np.array([1,1,1,-1,0])\n",
    "np.take(a,allowed)"
   ]
  },
  {
   "cell_type": "code",
   "execution_count": 52,
   "metadata": {},
   "outputs": [],
   "source": [
    "class Game:\n",
    "    def __init__(self, epsilon=1., min_epsilon=0.1, epsilon_decay=5e-4):\n",
    "        self.epsilon = 1\n",
    "        self.batch_size = 50\n",
    "        self.min_epsilon = min_epsilon\n",
    "        self.epsilon_decay = epsilon_decay\n",
    "        self.game = Env()\n",
    "        self.model = Sequential()\n",
    "        self.model.add(Dense(4, input_dim=9, activation='relu'))\n",
    "        self.model.add(Dense(4, activation='relu'))\n",
    "        self.model.add(Dense(9, activation='sigmoid'))\n",
    "        self.model.add(Activation('softmax'))\n",
    "        self.model.compile(loss='mse', optimizer='adam')\n",
    "        self.buffer = ReplayBuffer(input_shape = (9,) , memory_size = 100000)\n",
    "#         self.model.compile(optimizer='adam', loss='mse')\n",
    "    \n",
    "    def take_action(self, allowed_actions, state):\n",
    "#         FOR SELECTING RANDOM\n",
    "        random = np.random.choice([True, False], 1, p=[self.epsilon,1-self.epsilon])[0]\n",
    "#     UPDATE EPSILON VALUE\n",
    "        self.epsilon = max(self.epsilon-self.epsilon_decay, self.min_epsilon)\n",
    "        \n",
    "#         IF RANDOM WHAT DO I DO!!!!\n",
    "        all_actions = np.arange(9)\n",
    "\n",
    "#         IF RANDOM WE GO WITH THIS TWO LINES\n",
    "        allowed_actions_pos = np.take(all_actions, allowed_actions)\n",
    "        action = np.random.choice(allowed_actions_pos)\n",
    "            \n",
    "        if not random:\n",
    "            actions = self.model.predict(np.array([state]))[0]\n",
    "            max_action = 0\n",
    "            for k,v in enumerate(list(actions)):\n",
    "                if k in allowed_actions:\n",
    "                    if v>max_action:\n",
    "                        max_action=v\n",
    "                        action = k\n",
    "        return action\n",
    "    \n",
    "    def play_with_self(self):\n",
    "        self.windraw_counter = 0\n",
    "        self.nwin_list = []\n",
    "        self.ndraw_list = []\n",
    "        for i in range(20000):\n",
    "            self.game.reset()\n",
    "            done = False\n",
    "            if i%5000 == 0:\n",
    "                print(\"rounds: \", i)\n",
    "            step = 0\n",
    "            allowed_actions = np.arange(9)\n",
    "            state = self.game.board\n",
    "            self.n_wins = 0\n",
    "            self.n_draw = 0\n",
    "            \n",
    "            while not done:\n",
    "#                 Starting game\n",
    "                step+=1\n",
    "#                 When player 1 is done, player 2 get's lower reward\n",
    "\n",
    "    \n",
    "#                 Player 1\n",
    "                action = self.take_action(allowed_actions, state)\n",
    "                state_,allowed_actions,r,done = self.game.step(action=action,mark=0)\n",
    "                \n",
    "#                 Player 2\n",
    "                if not done:\n",
    "                    action2 = self.take_action(allowed_actions, state_)\n",
    "                    state2_,allowed_actions,r2,done = self.game.step(action=action2,mark=1)\n",
    "                    self.buffer.store_transition(state_, action2, r2, state2_, done)\n",
    "                if r2 == 100:\n",
    "                    r = -r2\n",
    "\n",
    "#                 Add both to ReplayBuffer\n",
    "                self.buffer.store_transition(state, action, r, state_, done)\n",
    "                \n",
    "                self.learn()\n",
    "                state = state2_\n",
    "                if done and r==100:\n",
    "                    self.n_wins += 1\n",
    "                elif done and r==0:\n",
    "                    self.n_draw +=1\n",
    "            \n",
    "            self.windraw_counter+=1\n",
    "            if self.windraw_counter%10 == 0:\n",
    "                self.nwin_list.append(self.n_wins)\n",
    "                self.ndraw_list.append(self.n_wins)\n",
    "            \n",
    "    \n",
    "    def learn(self):\n",
    "        if self.buffer.memory_counter<self.batch_size:\n",
    "            return\n",
    "        \n",
    "        state, action, rewards, state_, dones = self.buffer.sample_buffer(self.batch_size)\n",
    "\n",
    "        # Finding a q value for a bunch of states and next states\n",
    "        q = self.model.predict(state)\n",
    "        q_next = self.model.predict(state_)\n",
    "\n",
    "        # Q value to be updated -> basically the weights to be updated such that the q value is changed to whatever it is supposed to be. \n",
    "        # Therefore \n",
    "        # TODO: Change the method of doing this. Figure out a way of doing it without np.copy\n",
    "        # maybe np.array(q_eval) will return a new array. \n",
    "        # Test it out on jupyter\n",
    "        q_target = np.copy(q)\n",
    "\n",
    "        # np.arange(self.batch_size, dtype=np.int32) -> handles array indexing\n",
    "        batch_index = np.arange(self.batch_size, dtype=np.int32)\n",
    "\n",
    "#       MaxQ\n",
    "        max_of_q_of_each_sample = np.max(q_next, axis=1)\n",
    "#     Gamma = 0.9\n",
    "        q_target[batch_index, action] = rewards+0.9*max_of_q_of_each_sample*dones\n",
    "\n",
    "#       IS THERE ANY OTHER WAY OF WRITING THIS?\n",
    "#       Neural Network style of updating a q table. Update weights\n",
    "        self.model.train_on_batch(state, q_target)\n",
    "\n",
    "        # TODO: Update self.epsilon\n",
    "\n",
    "        self.epsilon = self.epsilon - self.epsilon_decay if self.epsilon>self.min_epsilon else self.min_epsilon\n",
    "\n",
    "    def play(self):\n",
    "#         if i%1000 == 0:\n",
    "        done = False\n",
    "        step = 0\n",
    "        allowed_actions = np.arange(9)\n",
    "        self.game.reset()\n",
    "        state = self.game.board\n",
    "        \n",
    "        while not done:\n",
    "#                 Starting game\n",
    "            step+=1\n",
    "#                 Player 1\n",
    "            action = self.take_action(allowed_actions, state)\n",
    "            state_,allowed_actions,r,done = self.game.step(action=action,mark=0)\n",
    "            \n",
    "#                 Player 2\n",
    "            print('Game: ')\n",
    "            print(self.game.get_board())\n",
    "            print(\"Enter your value among :\") \n",
    "            print(self.game.allowedAction)\n",
    "            played_right = False\n",
    "            while not played_right:\n",
    "                try:\n",
    "                    action2 = int(input('enter value'))\n",
    "                    played_right = True\n",
    "#                     if action2 not in allowed_actions:\n",
    "#                         print(0/0)\n",
    "                except:\n",
    "                    print(\"Enter the right value in integer from 0 to 8\")\n",
    "            state = state_\n",
    "            \n",
    "            state2_,allowed_actions,r2,done = self.game.step(action=action2,mark=1)\n"
   ]
  },
  {
   "cell_type": "code",
   "execution_count": 53,
   "metadata": {},
   "outputs": [
    {
     "name": "stdout",
     "output_type": "stream",
     "text": [
      "rounds:  0\n",
      "rounds:  5000\n",
      "rounds:  10000\n",
      "rounds:  15000\n"
     ]
    }
   ],
   "source": [
    "game = Game()\n",
    "game.play_with_self()\n"
   ]
  },
  {
   "cell_type": "code",
   "execution_count": 54,
   "metadata": {},
   "outputs": [
    {
     "name": "stdout",
     "output_type": "stream",
     "text": [
      "Game: \n",
      "[[-1. -1. -1.]\n",
      " [-1. -1. -1.]\n",
      " [ 0. -1. -1.]]\n",
      "Enter your value among :\n",
      "[0, 1, 2, 3, 4, 5, 7, 8]\n",
      "enter value4\n",
      "Game: \n",
      "[[-1. -1. -1.]\n",
      " [-1.  1. -1.]\n",
      " [ 0. -1.  0.]]\n",
      "Enter your value among :\n",
      "[0, 1, 2, 3, 5, 7]\n",
      "enter value0\n",
      "Game: \n",
      "[[ 1.  0. -1.]\n",
      " [-1.  1. -1.]\n",
      " [ 0. -1.  0.]]\n",
      "Enter your value among :\n",
      "[2, 3, 5, 7]\n",
      "enter value8\n"
     ]
    }
   ],
   "source": [
    "game.play()"
   ]
  },
  {
   "cell_type": "code",
   "execution_count": 74,
   "metadata": {},
   "outputs": [],
   "source": [
    "win_list= []\n",
    "k = 0\n",
    "for key,val in enumerate(game.nwin_list):\n",
    "    k+=val\n",
    "    if(key%100==0):\n",
    "        win_list.append(k)\n",
    "        k=0"
   ]
  },
  {
   "cell_type": "code",
   "execution_count": 75,
   "metadata": {},
   "outputs": [
    {
     "data": {
      "text/plain": [
       "[1, 55, 26, 27, 48, 43, 45, 73, 85, 89, 84, 74, 79, 83, 91, 87, 68, 48, 25, 17]"
      ]
     },
     "execution_count": 75,
     "metadata": {},
     "output_type": "execute_result"
    }
   ],
   "source": [
    "win_list"
   ]
  },
  {
   "cell_type": "code",
   "execution_count": 76,
   "metadata": {},
   "outputs": [
    {
     "data": {
      "text/plain": [
       "[<matplotlib.lines.Line2D at 0x641faf950>]"
      ]
     },
     "execution_count": 76,
     "metadata": {},
     "output_type": "execute_result"
    },
    {
     "data": {
      "image/png": "[encoded data removed]",
      "text/plain": [
       "<Figure size 432x288 with 1 Axes>"
      ]
     },
     "metadata": {
      "needs_background": "light"
     },
     "output_type": "display_data"
    }
   ],
   "source": [
    "import matplotlib.pyplot as plt\n",
    "plt.plot(win_list)\n"
   ]
  },
  {
   "cell_type": "code",
   "execution_count": 71,
   "metadata": {},
   "outputs": [
    {
     "ename": "ModuleNotFoundError",
     "evalue": "No module named 'matplot'",
     "output_type": "error",
     "traceback": [
      "\u001b[0;31m---------------------------------------------------------------------------\u001b[0m",
      "\u001b[0;31mModuleNotFoundError\u001b[0m                       Traceback (most recent call last)",
      "\u001b[0;32m<ipython-input-71-faaab29a4947>\u001b[0m in \u001b[0;36m<module>\u001b[0;34m\u001b[0m\n\u001b[0;32m----> 1\u001b[0;31m \u001b[0;32mimport\u001b[0m \u001b[0mmatplot\u001b[0m\u001b[0;34m.\u001b[0m\u001b[0mplot\u001b[0m \u001b[0;32mas\u001b[0m \u001b[0mplt\u001b[0m\u001b[0;34m\u001b[0m\u001b[0;34m\u001b[0m\u001b[0m\n\u001b[0m",
      "\u001b[0;31mModuleNotFoundError\u001b[0m: No module named 'matplot'"
     ]
    }
   ],
   "source": [
    "import matplot.plot as plt"
   ]
  },
  {
   "cell_type": "code",
   "execution_count": 69,
   "metadata": {},
   "outputs": [
    {
     "data": {
      "text/plain": [
       "[]"
      ]
     },
     "execution_count": 69,
     "metadata": {},
     "output_type": "execute_result"
    }
   ],
   "source": [
    "draw_list"
   ]
  },
  {
   "cell_type": "raw",
   "metadata": {},
   "source": [
    "model = Sequential()\n",
    "model.add(Dense(4, input_dim=9, activation='relu'))\n",
    "model.add(Dense(4, activation='relu'))\n",
    "model.add(Dense(9, activation='sigmoid'))\n",
    "model.add(Activation('softmax'))\n",
    "model.compile(loss='mse', optimizer='adam')"
   ]
  },
  {
   "cell_type": "code",
   "execution_count": 163,
   "metadata": {},
   "outputs": [
    {
     "data": {
      "text/plain": [
       "array([0, 1, 2, 3, 4, 5, 6, 7, 8])"
      ]
     },
     "execution_count": 163,
     "metadata": {},
     "output_type": "execute_result"
    }
   ],
   "source": [
    "np.arange(9)"
   ]
  },
  {
   "cell_type": "code",
   "execution_count": 156,
   "metadata": {},
   "outputs": [],
   "source": [
    "a = np.array([[0,0,0,1,0,0,1,1,0]])\n"
   ]
  },
  {
   "cell_type": "code",
   "execution_count": 158,
   "metadata": {},
   "outputs": [],
   "source": [
    "allowed = [1,2,3]"
   ]
  },
  {
   "cell_type": "code",
   "execution_count": 228,
   "metadata": {},
   "outputs": [
    {
     "data": {
      "text/plain": [
       "array([[0.11872599, 0.10063873, 0.10116652, 0.12087925, 0.10957962,\n",
       "        0.11780806, 0.10732874, 0.11861013, 0.10526288]], dtype=float32)"
      ]
     },
     "execution_count": 228,
     "metadata": {},
     "output_type": "execute_result"
    }
   ],
   "source": [
    "a = np.array([[0,0,0,1,0,0,1,1,0]])\n",
    "p = model.predict(a)\n",
    "# allowed_action_prob = np.take(p,allowed)\n",
    "# np.argmax(allowed_action_prob)\n",
    "p"
   ]
  },
  {
   "cell_type": "code",
   "execution_count": 46,
   "metadata": {},
   "outputs": [],
   "source": [
    "a = np.array([1,1,0,1,0,0,0,1])"
   ]
  },
  {
   "cell_type": "code",
   "execution_count": 47,
   "metadata": {},
   "outputs": [],
   "source": [
    "allowed_position = a==1\n",
    "allowed_action = np.where(allowed_position == True)[0]"
   ]
  },
  {
   "cell_type": "code",
   "execution_count": 71,
   "metadata": {},
   "outputs": [
    {
     "data": {
      "text/plain": [
       "1"
      ]
     },
     "execution_count": 71,
     "metadata": {},
     "output_type": "execute_result"
    }
   ],
   "source": [
    "np.random.choice(a)"
   ]
  },
  {
   "cell_type": "code",
   "execution_count": 10,
   "metadata": {},
   "outputs": [],
   "source": [
    "board = Env(0)\n"
   ]
  },
  {
   "cell_type": "code",
   "execution_count": 4,
   "metadata": {},
   "outputs": [
    {
     "name": "stdout",
     "output_type": "stream",
     "text": [
      "[ 0. -1. -1. -1. -1. -1. -1. -1. -1.]\n"
     ]
    },
    {
     "data": {
      "text/plain": [
       "((array([ 0., -1., -1., -1., -1., -1., -1., -1., -1.]),\n",
       "  [1, 2, 3, 4, 5, 6, 7, 8]),\n",
       " 0,\n",
       " False)"
      ]
     },
     "execution_count": 4,
     "metadata": {},
     "output_type": "execute_result"
    }
   ],
   "source": [
    "agent1.get_board()\n",
    "agent1.step(action=0,mark=0)"
   ]
  },
  {
   "cell_type": "code",
   "execution_count": 5,
   "metadata": {},
   "outputs": [
    {
     "data": {
      "text/plain": [
       "array([[ 0., -1., -1.],\n",
       "       [-1., -1., -1.],\n",
       "       [-1., -1., -1.]])"
      ]
     },
     "execution_count": 5,
     "metadata": {},
     "output_type": "execute_result"
    }
   ],
   "source": [
    "agent1.get_board()"
   ]
  },
  {
   "cell_type": "code",
   "execution_count": 7,
   "metadata": {},
   "outputs": [
    {
     "name": "stdout",
     "output_type": "stream",
     "text": [
      "[-1.  1. -1. -1. -1. -1. -1. -1. -1.]\n",
      "[ 0. -1. -1. -1. -1.  0. -1. -1. -1.]\n",
      "[-1.  1. -1. -1.  1. -1. -1. -1. -1.]\n",
      "[ 0. -1. -1. -1. -1.  0.  0. -1. -1.]\n",
      "[-1.  1. -1. -1.  1. -1. -1.  1. -1.]\n"
     ]
    },
    {
     "data": {
      "text/plain": [
       "((array([-1.,  1., -1., -1.,  1., -1., -1.,  1., -1.]), [0, 2, 3, 5, 6, 8]),\n",
       " 100,\n",
       " True)"
      ]
     },
     "execution_count": 7,
     "metadata": {},
     "output_type": "execute_result"
    }
   ],
   "source": [
    "agent2 = Env(1)\n",
    "# agent2.get_board()\n",
    "agent2.step(1)\n",
    "agent1.step(5)\n",
    "agent2.step(4)\n",
    "agent1.step(6)\n",
    "agent2.step(7)"
   ]
  },
  {
   "cell_type": "code",
   "execution_count": 9,
   "metadata": {},
   "outputs": [
    {
     "data": {
      "text/plain": [
       "array([[-1.,  1., -1.],\n",
       "       [-1.,  1., -1.],\n",
       "       [-1.,  1., -1.]])"
      ]
     },
     "execution_count": 9,
     "metadata": {},
     "output_type": "execute_result"
    }
   ],
   "source": [
    "agent2.get_board()"
   ]
  },
  {
   "cell_type": "code",
   "execution_count": 139,
   "metadata": {},
   "outputs": [
    {
     "name": "stdout",
     "output_type": "stream",
     "text": [
      "[-1. -1. -1. -1. -1. -1. -1. -1.  0.]\n",
      "(array([-1., -1., -1., -1., -1., -1., -1., -1.,  0.]), [0, 1, 2, 3, 4, 5, 6, 7])\n"
     ]
    }
   ],
   "source": [
    "state, reward, done = agent1.step(8)\n",
    "print(state)"
   ]
  },
  {
   "cell_type": "code",
   "execution_count": null,
   "metadata": {},
   "outputs": [],
   "source": [
    "num_episodes = 100"
   ]
  },
  {
   "cell_type": "code",
   "execution_count": 145,
   "metadata": {},
   "outputs": [
    {
     "name": "stdout",
     "output_type": "stream",
     "text": [
      "True\n",
      "[-1. -1. -1. -1.  0. -1. -1. -1. -1.]\n",
      "agent1 made a move\n",
      "[[-1. -1. -1.]\n",
      " [-1.  0. -1.]\n",
      " [-1. -1. -1.]]\n",
      "[-1. -1. -1. -1.  0. -1. -1. -1.  1.]\n",
      "agent 2 made a move\n",
      "[[-1. -1. -1.]\n",
      " [-1.  0. -1.]\n",
      " [-1. -1.  1.]]\n",
      "True\n",
      "[-1. -1. -1. -1.  0.  0. -1. -1.  1.]\n",
      "agent1 made a move\n",
      "[[-1. -1. -1.]\n",
      " [-1.  0.  0.]\n",
      " [-1. -1.  1.]]\n",
      "[-1.  1. -1. -1.  0.  0. -1. -1.  1.]\n",
      "agent 2 made a move\n",
      "[[-1.  1. -1.]\n",
      " [-1.  0.  0.]\n",
      " [-1. -1.  1.]]\n",
      "True\n",
      "[-1.  1. -1. -1.  0.  0. -1.  0.  1.]\n",
      "agent1 made a move\n",
      "[[-1.  1. -1.]\n",
      " [-1.  0.  0.]\n",
      " [-1.  0.  1.]]\n",
      "[ 1.  1. -1. -1.  0.  0. -1.  0.  1.]\n",
      "agent 2 made a move\n",
      "[[ 1.  1. -1.]\n",
      " [-1.  0.  0.]\n",
      " [-1.  0.  1.]]\n",
      "True\n",
      "[ 1.  1.  0. -1.  0.  0. -1.  0.  1.]\n",
      "agent1 made a move\n",
      "[[ 1.  1.  0.]\n",
      " [-1.  0.  0.]\n",
      " [-1.  0.  1.]]\n",
      "[ 1.  1.  0. -1.  0.  0.  1.  0.  1.]\n",
      "agent 2 made a move\n",
      "[[ 1.  1.  0.]\n",
      " [-1.  0.  0.]\n",
      " [ 1.  0.  1.]]\n",
      "True\n",
      "[1. 1. 0. 0. 0. 0. 1. 0. 1.]\n",
      "agent1 won\n"
     ]
    }
   ],
   "source": [
    "agent1 = Game(0)\n",
    "agent2 = Game(1)\n",
    "Q = defaultdict(lambda: np.zeros(env.nA))\n",
    "plot_every = num_episodes/25\n",
    "score_collection = []\n",
    "scores = []\n",
    "for i_episode in range(1, num_episodes+1):\n",
    "    episode_reward = 0\n",
    "    agent0.reset()\n",
    "    agent1.reset()\n",
    "    while True:\n",
    "        play = np.random.choice([True,False],1,p=[0.9,0.1])[0]\n",
    "        print(play)\n",
    "        if(play):\n",
    "            a1_action = np.random.choice(agent1.allowedAction)\n",
    "            state1, reward1, done = agent1.step(a1_action)\n",
    "            agent2.set_board(state1[0])\n",
    "            if(done):\n",
    "                if(reward1 == 100):\n",
    "                    print('agent1 won')\n",
    "                else:\n",
    "                    print('draw')\n",
    "                break\n",
    "            else:\n",
    "                print('agent1 made a move')\n",
    "                print(agent1.get_board())\n",
    "\n",
    "\n",
    "        play = np.random.choice([True,False],1,p=[0.9,0.1])[0]\n",
    "        if(play):\n",
    "            a2_action = np.random.choice(agent2.allowedAction)\n",
    "    #         a2_action = int(input(\"input a number among \"+ str(agent2.allowedAction)))\n",
    "            state2, reward2, done = agent2.step(a2_action)\n",
    "            agent1.set_board(state2[0])\n",
    "            if(done):\n",
    "                if(reward2 == 100):\n",
    "                    print('agent2 won')\n",
    "                else:\n",
    "                    print('draw')\n",
    "                break\n",
    "            else:\n",
    "                print('agent 2 made a move')\n",
    "                print(agent2.get_board())\n"
   ]
  },
  {
   "cell_type": "code",
   "execution_count": 126,
   "metadata": {},
   "outputs": [
    {
     "data": {
      "text/plain": [
       "3"
      ]
     },
     "execution_count": 126,
     "metadata": {},
     "output_type": "execute_result"
    }
   ],
   "source": [
    "def q_learning(env, num_episodes, alpha=0.1, gamma=1.0, epsilon=0.05):\n",
    "    # initialize action-value function (empty dictionary of arrays)\n",
    "    Q = defaultdict(lambda: np.zeros(env.nA))\n",
    "    # initialize performance monitor -\n",
    "#     Get a0 for s0 based on epsilon\n",
    "    plot_every = num_episodes/25\n",
    "    # loop over episodes\n",
    "    score_collection = []\n",
    "    scores = []\n",
    "    for i_episode in range(1, num_episodes+1):\n",
    "        episode_reward = 0\n",
    "#         How it acts in each episode\n",
    "        state = env.reset()\n",
    "        action = performAction(env,state,Q,epsilon)\n",
    "        done = False\n",
    "        steps = 0\n",
    "        while not done:\n",
    "            steps+=1\n",
    "            next_state, reward, done = env.step(action)\n",
    "            episode_reward += reward\n",
    "#             list_state = s[1:-1].split(\",\")\n",
    "#             if(int(list_state[1])==10 and int(list_state[0])==10):\n",
    "#             print('\\r', 'state: ', state,'i: ', i, end='')\n",
    "            if not done:\n",
    "                next_action = performAction(env,next_state,Q,epsilon)\n",
    "                Q[state][action] = Q[state][action] + (alpha * (reward + (gamma * Q[next_state][next_action]) - Q[state][action]))\n",
    "                state = next_state\n",
    "            else:\n",
    "                Q[state][action] = Q[state][action] + (alpha * (reward + (gamma * Q[next_state][next_action]) - Q[state][action]))\n",
    "                score_collection.append(episode_reward)\n",
    "        \n",
    "        # monitor progress\n",
    "        if i_episode % 10 == 0:\n",
    "            scores.append(np.mean(score_collection))\n",
    "#             print(\"\\rEpisode {}/{}: Reward {}\".format(i_episode, num_episodes, episode_reward), end=\"\")\n",
    "#             sys.stdout.flush()\n",
    "            print('\\r', 'i_episode: ', i_episode, end='')\n",
    "            score_collection = []\n",
    "        ## TODO: complete the function\n",
    "    \n",
    "    # plot performance\n",
    "    plt.plot(np.linspace(0,num_episodes,len(scores),endpoint=False),np.asarray(scores))\n",
    "    plt.xlabel('Episode Number')\n",
    "    plt.ylabel('Average Reward (Over Next %d Episodes)' % plot_every)\n",
    "    plt.show()\n",
    "    # print best 100-episode performance\n",
    "    print(('Best Average Reward over %d Episodes: ' % plot_every), np.max(scores))\n",
    "        \n",
    "    return Q"
   ]
  },
  {
   "cell_type": "code",
   "execution_count": 127,
   "metadata": {},
   "outputs": [],
   "source": [
    "a = np.array([1,1,1,2,2,2])"
   ]
  },
  {
   "cell_type": "code",
   "execution_count": 56,
   "metadata": {},
   "outputs": [
    {
     "data": {
      "text/plain": [
       "[3, 4, 5]"
      ]
     },
     "execution_count": 56,
     "metadata": {},
     "output_type": "execute_result"
    }
   ],
   "source": [
    "list(np.where(a==2)[0])"
   ]
  },
  {
   "cell_type": "code",
   "execution_count": 150,
   "metadata": {},
   "outputs": [
    {
     "data": {
      "text/plain": [
       "False"
      ]
     },
     "execution_count": 150,
     "metadata": {},
     "output_type": "execute_result"
    }
   ],
   "source": [
    "play = np.random.choice([True,False],1,p=[0.9,0.1])[0]\n",
    "play"
   ]
  },
  {
   "cell_type": "code",
   "execution_count": null,
   "metadata": {},
   "outputs": [],
   "source": []
  }
 ],
 "metadata": {
  "kernelspec": {
   "display_name": "Python 3",
   "language": "python",
   "name": "python3"
  },
  "language_info": {
   "codemirror_mode": {
    "name": "ipython",
    "version": 3
   },
   "file_extension": ".py",
   "mimetype": "text/x-python",
   "name": "python",
   "nbconvert_exporter": "python",
   "pygments_lexer": "ipython3",
   "version": "3.7.6"
  }
 },
 "nbformat": 4,
 "nbformat_minor": 2
}
